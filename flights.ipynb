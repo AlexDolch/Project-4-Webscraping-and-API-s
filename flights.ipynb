{
 "cells": [
  {
   "attachments": {},
   "cell_type": "markdown",
   "metadata": {},
   "source": [
    "This is a notebook for:\n",
    "1. Read airports table\n",
    "2. Connect to Rapid API\n",
    "3. Collect flights data for airports\n",
    "4. Sava data into DataFrame\n",
    "5. Update flights table with collected data\n",
    "\n",
    "The flights table should contain:\n",
    "* flights_id\n",
    "* flights_number\n",
    "* departure_icao\n",
    "* departure_city\n",
    "* departure_time_local\n",
    "* arrival_icao\n",
    "* arrival_time_local\n",
    "* arrival_terminal\n",
    "* airline\n",
    "* data_retrieved_on"
   ]
  },
  {
   "attachments": {},
   "cell_type": "markdown",
   "metadata": {},
   "source": [
    "### 1. Import of the needed modules, API query:"
   ]
  },
  {
   "cell_type": "code",
   "execution_count": null,
   "metadata": {},
   "outputs": [],
   "source": [
    "import requests\n",
    "# From rapidapi website:\n",
    "url = \"https://aerodatabox.p.rapidapi.com/flights/airports/{icao}/%7Bicao%7D/2021-10-04T20:00/2021-10-05T08:00\" # get icao from airports\n",
    "\n",
    "querystring = {\"withLeg\":\"true\",\"direction\":\"Arrival\",\"withCancelled\":\"false\",\"withCodeshared\":\"true\",\"withCargo\":\"true\",\"withPrivate\":\"true\",\"withLocation\":\"false\"}\n",
    "\n",
    "headers = {\n",
    "\t\"X-RapidAPI-Key\": \"8f6c6ec3d3mshce192ac6514b217p197633jsnd18845f6e525\", #replace with API_keys reference!!!\n",
    "\t\"X-RapidAPI-Host\": \"aerodatabox.p.rapidapi.com\"\n",
    "    }\n",
    "\n",
    "response = requests.request(\"GET\", url, headers=headers, params=querystring)\n",
    "\n",
    "print(response.text)"
   ]
  }
 ],
 "metadata": {
  "kernelspec": {
   "display_name": "Python 3",
   "language": "python",
   "name": "python3"
  },
  "language_info": {
   "name": "python",
   "version": "3.9.13 (main, Aug 25 2022, 23:51:50) [MSC v.1916 64 bit (AMD64)]"
  },
  "orig_nbformat": 4,
  "vscode": {
   "interpreter": {
    "hash": "c62e2d0e8abf7e03d5de1dc8eac23fc17ec23d48f7a7e8acd70fd152f0b9a83e"
   }
  }
 },
 "nbformat": 4,
 "nbformat_minor": 2
}
