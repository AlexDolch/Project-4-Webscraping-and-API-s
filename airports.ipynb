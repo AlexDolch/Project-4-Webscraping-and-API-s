{
 "cells": [
  {
   "attachments": {},
   "cell_type": "markdown",
   "metadata": {},
   "source": [
    "This is a notebook for:\n",
    "1. Read the airports.csv\n",
    "2. Filter desired airports data\n",
    "3. Sava data into airports DataFrame\n",
    "4. Update airports table with collected data\n",
    "\n",
    "The airports DataFrame should contain:\n",
    "* city_id\n",
    "* ICAO"
   ]
  }
 ],
 "metadata": {
  "kernelspec": {
   "display_name": "Python 3",
   "language": "python",
   "name": "python3"
  },
  "language_info": {
   "name": "python",
   "version": "3.9.13 (main, Aug 25 2022, 23:51:50) [MSC v.1916 64 bit (AMD64)]"
  },
  "orig_nbformat": 4,
  "vscode": {
   "interpreter": {
    "hash": "c62e2d0e8abf7e03d5de1dc8eac23fc17ec23d48f7a7e8acd70fd152f0b9a83e"
   }
  }
 },
 "nbformat": 4,
 "nbformat_minor": 2
}
