{
 "cells": [
  {
   "attachments": {},
   "cell_type": "markdown",
   "metadata": {},
   "source": [
    "This is a notebook for:\n",
    "1. Read the cities table\n",
    "2. Connect to OWM API\n",
    "3. Collect weather data for cities\n",
    "4. Save data into DataFrame\n",
    "5. Update weather table with collected data\n",
    "\n",
    "The weather DataFrame should contain:\n",
    "* city_id\n",
    "* forecast_time\n",
    "* temp\n",
    "* feels_like\n",
    "* wind_speed\n",
    "* outlook\n",
    "* pop"
   ]
  }
 ],
 "metadata": {
  "kernelspec": {
   "display_name": "Python 3",
   "language": "python",
   "name": "python3"
  },
  "language_info": {
   "name": "python",
   "version": "3.9.13 (main, Aug 25 2022, 23:51:50) [MSC v.1916 64 bit (AMD64)]"
  },
  "orig_nbformat": 4,
  "vscode": {
   "interpreter": {
    "hash": "c62e2d0e8abf7e03d5de1dc8eac23fc17ec23d48f7a7e8acd70fd152f0b9a83e"
   }
  }
 },
 "nbformat": 4,
 "nbformat_minor": 2
}
